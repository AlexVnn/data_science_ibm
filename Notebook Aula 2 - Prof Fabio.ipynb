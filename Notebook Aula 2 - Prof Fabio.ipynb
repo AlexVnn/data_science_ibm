{
    "cells": [
        {
            "cell_type": "code",
            "execution_count": 1,
            "metadata": {},
            "outputs": [
                {
                    "data": {
                        "text/html": "<div>\n<style scoped>\n    .dataframe tbody tr th:only-of-type {\n        vertical-align: middle;\n    }\n\n    .dataframe tbody tr th {\n        vertical-align: top;\n    }\n\n    .dataframe thead th {\n        text-align: right;\n    }\n</style>\n<table border=\"1\" class=\"dataframe\">\n  <thead>\n    <tr style=\"text-align: right;\">\n      <th></th>\n      <th>ID</th>\n      <th>Sex</th>\n      <th>Status</th>\n      <th>Children</th>\n      <th>Est_Income</th>\n      <th>Car_Owner</th>\n      <th>Usage</th>\n      <th>Age</th>\n      <th>RatePlan</th>\n      <th>LongDistance</th>\n      <th>International</th>\n      <th>Local</th>\n      <th>Dropped</th>\n      <th>Paymethod</th>\n      <th>LocalBilltype</th>\n      <th>LongDistanceBilltype</th>\n      <th>CHURN</th>\n    </tr>\n  </thead>\n  <tbody>\n    <tr>\n      <th>0</th>\n      <td>1</td>\n      <td>F</td>\n      <td>S</td>\n      <td>1</td>\n      <td>38000.00</td>\n      <td>N</td>\n      <td>229.64</td>\n      <td>24.393333</td>\n      <td>3</td>\n      <td>23.56</td>\n      <td>0.0</td>\n      <td>206.08</td>\n      <td>0</td>\n      <td>CC</td>\n      <td>Budget</td>\n      <td>Intnl_discount</td>\n      <td>Cancelled</td>\n    </tr>\n    <tr>\n      <th>1</th>\n      <td>6</td>\n      <td>M</td>\n      <td>M</td>\n      <td>2</td>\n      <td>29616.00</td>\n      <td>N</td>\n      <td>75.29</td>\n      <td>49.426667</td>\n      <td>2</td>\n      <td>29.78</td>\n      <td>0.0</td>\n      <td>45.50</td>\n      <td>0</td>\n      <td>CH</td>\n      <td>FreeLocal</td>\n      <td>Standard</td>\n      <td>Current</td>\n    </tr>\n    <tr>\n      <th>2</th>\n      <td>8</td>\n      <td>M</td>\n      <td>M</td>\n      <td>0</td>\n      <td>19732.80</td>\n      <td>N</td>\n      <td>47.25</td>\n      <td>50.673333</td>\n      <td>3</td>\n      <td>24.81</td>\n      <td>0.0</td>\n      <td>22.44</td>\n      <td>0</td>\n      <td>CC</td>\n      <td>FreeLocal</td>\n      <td>Standard</td>\n      <td>Current</td>\n    </tr>\n    <tr>\n      <th>3</th>\n      <td>11</td>\n      <td>M</td>\n      <td>S</td>\n      <td>2</td>\n      <td>96.33</td>\n      <td>N</td>\n      <td>59.01</td>\n      <td>56.473333</td>\n      <td>1</td>\n      <td>26.13</td>\n      <td>0.0</td>\n      <td>32.88</td>\n      <td>1</td>\n      <td>CC</td>\n      <td>Budget</td>\n      <td>Standard</td>\n      <td>Current</td>\n    </tr>\n    <tr>\n      <th>4</th>\n      <td>14</td>\n      <td>F</td>\n      <td>M</td>\n      <td>2</td>\n      <td>52004.80</td>\n      <td>N</td>\n      <td>28.14</td>\n      <td>25.140000</td>\n      <td>1</td>\n      <td>5.03</td>\n      <td>0.0</td>\n      <td>23.11</td>\n      <td>0</td>\n      <td>CH</td>\n      <td>Budget</td>\n      <td>Intnl_discount</td>\n      <td>Cancelled</td>\n    </tr>\n  </tbody>\n</table>\n</div>",
                        "text/plain": "   ID Sex Status  Children  Est_Income Car_Owner   Usage        Age  RatePlan  \\\n0   1   F      S         1    38000.00         N  229.64  24.393333         3   \n1   6   M      M         2    29616.00         N   75.29  49.426667         2   \n2   8   M      M         0    19732.80         N   47.25  50.673333         3   \n3  11   M      S         2       96.33         N   59.01  56.473333         1   \n4  14   F      M         2    52004.80         N   28.14  25.140000         1   \n\n   LongDistance  International   Local  Dropped Paymethod LocalBilltype  \\\n0         23.56            0.0  206.08        0        CC        Budget   \n1         29.78            0.0   45.50        0        CH     FreeLocal   \n2         24.81            0.0   22.44        0        CC     FreeLocal   \n3         26.13            0.0   32.88        1        CC        Budget   \n4          5.03            0.0   23.11        0        CH        Budget   \n\n  LongDistanceBilltype      CHURN  \n0       Intnl_discount  Cancelled  \n1             Standard    Current  \n2             Standard    Current  \n3             Standard    Current  \n4       Intnl_discount  Cancelled  "
                    },
                    "execution_count": 1,
                    "metadata": {},
                    "output_type": "execute_result"
                }
            ],
            "source": "# The code was removed by Watson Studio for sharing."
        },
        {
            "cell_type": "code",
            "execution_count": 2,
            "metadata": {},
            "outputs": [
                {
                    "data": {
                        "text/html": "<div>\n<style scoped>\n    .dataframe tbody tr th:only-of-type {\n        vertical-align: middle;\n    }\n\n    .dataframe tbody tr th {\n        vertical-align: top;\n    }\n\n    .dataframe thead th {\n        text-align: right;\n    }\n</style>\n<table border=\"1\" class=\"dataframe\">\n  <thead>\n    <tr style=\"text-align: right;\">\n      <th></th>\n      <th>ID</th>\n      <th>Children</th>\n      <th>Est_Income</th>\n      <th>Usage</th>\n      <th>Age</th>\n      <th>RatePlan</th>\n      <th>LongDistance</th>\n      <th>International</th>\n      <th>Local</th>\n      <th>Dropped</th>\n    </tr>\n  </thead>\n  <tbody>\n    <tr>\n      <th>count</th>\n      <td>2070.000000</td>\n      <td>2070.000000</td>\n      <td>2070.000000</td>\n      <td>2070.000000</td>\n      <td>2070.000000</td>\n      <td>2070.000000</td>\n      <td>2070.000000</td>\n      <td>2070.000000</td>\n      <td>2070.000000</td>\n      <td>2070.000000</td>\n    </tr>\n    <tr>\n      <th>mean</th>\n      <td>1901.151691</td>\n      <td>1.147826</td>\n      <td>51464.262406</td>\n      <td>75.855063</td>\n      <td>42.798081</td>\n      <td>2.509662</td>\n      <td>16.129338</td>\n      <td>1.207295</td>\n      <td>59.080812</td>\n      <td>0.135749</td>\n    </tr>\n    <tr>\n      <th>std</th>\n      <td>1094.709118</td>\n      <td>0.843124</td>\n      <td>30796.680570</td>\n      <td>59.741635</td>\n      <td>14.883739</td>\n      <td>1.125157</td>\n      <td>9.866626</td>\n      <td>2.625421</td>\n      <td>57.542526</td>\n      <td>0.526189</td>\n    </tr>\n    <tr>\n      <th>min</th>\n      <td>1.000000</td>\n      <td>0.000000</td>\n      <td>96.330000</td>\n      <td>0.680000</td>\n      <td>12.326667</td>\n      <td>1.000000</td>\n      <td>0.000000</td>\n      <td>0.000000</td>\n      <td>0.680000</td>\n      <td>0.000000</td>\n    </tr>\n    <tr>\n      <th>25%</th>\n      <td>972.250000</td>\n      <td>0.000000</td>\n      <td>21084.700000</td>\n      <td>34.250000</td>\n      <td>30.886667</td>\n      <td>2.000000</td>\n      <td>8.090000</td>\n      <td>0.000000</td>\n      <td>15.200000</td>\n      <td>0.000000</td>\n    </tr>\n    <tr>\n      <th>50%</th>\n      <td>1874.000000</td>\n      <td>1.000000</td>\n      <td>55860.000000</td>\n      <td>57.110000</td>\n      <td>45.526667</td>\n      <td>2.000000</td>\n      <td>16.140000</td>\n      <td>0.000000</td>\n      <td>39.620000</td>\n      <td>0.000000</td>\n    </tr>\n    <tr>\n      <th>75%</th>\n      <td>2832.000000</td>\n      <td>2.000000</td>\n      <td>78000.000000</td>\n      <td>107.020000</td>\n      <td>54.013333</td>\n      <td>4.000000</td>\n      <td>22.990000</td>\n      <td>0.000000</td>\n      <td>87.460000</td>\n      <td>0.000000</td>\n    </tr>\n    <tr>\n      <th>max</th>\n      <td>3825.000000</td>\n      <td>2.000000</td>\n      <td>120000.000000</td>\n      <td>361.880000</td>\n      <td>77.000000</td>\n      <td>4.000000</td>\n      <td>59.000000</td>\n      <td>9.700000</td>\n      <td>332.460000</td>\n      <td>4.000000</td>\n    </tr>\n  </tbody>\n</table>\n</div>",
                        "text/plain": "                ID     Children     Est_Income        Usage          Age  \\\ncount  2070.000000  2070.000000    2070.000000  2070.000000  2070.000000   \nmean   1901.151691     1.147826   51464.262406    75.855063    42.798081   \nstd    1094.709118     0.843124   30796.680570    59.741635    14.883739   \nmin       1.000000     0.000000      96.330000     0.680000    12.326667   \n25%     972.250000     0.000000   21084.700000    34.250000    30.886667   \n50%    1874.000000     1.000000   55860.000000    57.110000    45.526667   \n75%    2832.000000     2.000000   78000.000000   107.020000    54.013333   \nmax    3825.000000     2.000000  120000.000000   361.880000    77.000000   \n\n          RatePlan  LongDistance  International        Local      Dropped  \ncount  2070.000000   2070.000000    2070.000000  2070.000000  2070.000000  \nmean      2.509662     16.129338       1.207295    59.080812     0.135749  \nstd       1.125157      9.866626       2.625421    57.542526     0.526189  \nmin       1.000000      0.000000       0.000000     0.680000     0.000000  \n25%       2.000000      8.090000       0.000000    15.200000     0.000000  \n50%       2.000000     16.140000       0.000000    39.620000     0.000000  \n75%       4.000000     22.990000       0.000000    87.460000     0.000000  \nmax       4.000000     59.000000       9.700000   332.460000     4.000000  "
                    },
                    "execution_count": 2,
                    "metadata": {},
                    "output_type": "execute_result"
                }
            ],
            "source": "df_data_1.describe()"
        },
        {
            "cell_type": "code",
            "execution_count": null,
            "metadata": {},
            "outputs": [],
            "source": ""
        }
    ],
    "metadata": {
        "kernelspec": {
            "display_name": "Python 3.8",
            "language": "python",
            "name": "python3"
        },
        "language_info": {
            "codemirror_mode": {
                "name": "ipython",
                "version": 3
            },
            "file_extension": ".py",
            "mimetype": "text/x-python",
            "name": "python",
            "nbconvert_exporter": "python",
            "pygments_lexer": "ipython3",
            "version": "3.8.11"
        }
    },
    "nbformat": 4,
    "nbformat_minor": 1
}